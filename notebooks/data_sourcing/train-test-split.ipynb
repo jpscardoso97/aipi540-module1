{
 "cells": [
  {
   "cell_type": "code",
   "execution_count": 14,
   "metadata": {},
   "outputs": [],
   "source": [
    "import os\n",
    "import shutil\n",
    "from sklearn.model_selection import train_test_split\n",
    "\n",
    "# Define the path to the raw data\n",
    "raw_data_path = '../../data/raw'\n",
    "processed_data_path = '../../data/processed'\n",
    "\n",
    "# Create train and test directories\n",
    "train_dir = os.path.join(processed_data_path, 'train')\n",
    "val_dir = os.path.join(processed_data_path, 'test')\n",
    "os.makedirs(train_dir, exist_ok=True)\n",
    "os.makedirs(val_dir, exist_ok=True)\n",
    "\n",
    "# Get the list of all folders in raw data directory\n",
    "folders = [f for f in os.listdir(raw_data_path) if os.path.isdir(os.path.join(raw_data_path, f))]\n",
    "\n",
    "# Loop over each folder and split the files into train and test sets\n",
    "for folder in folders:\n",
    "    # Get the list of all files in the folder\n",
    "    files = os.listdir(os.path.join(raw_data_path, folder))\n",
    "    \n",
    "    corr_img = 0\n",
    "\n",
    "    # Remove corrupted images\n",
    "    for file in files:\n",
    "        try:\n",
    "            img = Image.open(os.path.join(raw_data_path, folder, file))\n",
    "        except :\n",
    "            os.remove(os.path.join(raw_data_path, folder, file))\n",
    "            corr_img += 1\n",
    "\n",
    "    if corr_img > 0:\n",
    "        print(f\"Removed {corr_img} corrupted images from {folder} folder\")\n",
    "\n",
    "    # Split the files into train and test sets\n",
    "    train_files, test_files = train_test_split(files, test_size=0.2, random_state=42)\n",
    "    \n",
    "    # Create corresponding folder in train and test directories\n",
    "    train_folder = os.path.join(train_dir, folder)\n",
    "    test_folder = os.path.join(val_dir, folder)\n",
    "    os.makedirs(train_folder, exist_ok=True)\n",
    "    os.makedirs(test_folder, exist_ok=True)\n",
    "    \n",
    "    # Copy the train files to the train directory\n",
    "    for file in train_files:\n",
    "        shutil.copy(os.path.join(raw_data_path, folder, file), os.path.join(train_folder, file))\n",
    "    \n",
    "    # Copy the test files to the test directory\n",
    "    for file in test_files:\n",
    "        shutil.copy(os.path.join(raw_data_path, folder, file), os.path.join(test_folder, file))\n"
   ]
  }
 ],
 "metadata": {
  "kernelspec": {
   "display_name": "base",
   "language": "python",
   "name": "python3"
  },
  "language_info": {
   "codemirror_mode": {
    "name": "ipython",
    "version": 3
   },
   "file_extension": ".py",
   "mimetype": "text/x-python",
   "name": "python",
   "nbconvert_exporter": "python",
   "pygments_lexer": "ipython3",
   "version": "3.11.6"
  }
 },
 "nbformat": 4,
 "nbformat_minor": 2
}
