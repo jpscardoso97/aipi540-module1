{
 "cells": [
  {
   "cell_type": "code",
   "execution_count": 12,
   "metadata": {},
   "outputs": [],
   "source": [
    "import os\n",
    "\n",
    "curr_dir = os.getcwd()\n",
    "file_name = 'snakes.txt'\n",
    "file_path = os.path.join(curr_dir, file_name)"
   ]
  },
  {
   "cell_type": "code",
   "execution_count": 13,
   "metadata": {},
   "outputs": [],
   "source": [
    "if not os.path.exists(file_path):\n",
    "    import requests\n",
    "    import unicodedata\n",
    "\n",
    "    from bs4 import BeautifulSoup\n",
    "\n",
    "    url = 'https://herpsofnc.org/snakes/'\n",
    "    response = requests.get(url)\n",
    "    soup = BeautifulSoup(response.content, 'html.parser')\n",
    "    snake_names = [em.get_text() for em in soup.find_all('em')]\n",
    "\n",
    "    # fix encodings\n",
    "    snake_names = [unicodedata.normalize('NFKD', name).encode('ascii', 'ignore').decode('utf-8') for name in snake_names]\n",
    "\n",
    "    # remove newlines\n",
    "    snake_names = [name.replace('\\n', '') for name in snake_names]\n",
    "\n",
    "    print(snake_names)\n",
    "    print(len(snake_names))"
   ]
  },
  {
   "cell_type": "code",
   "execution_count": 14,
   "metadata": {},
   "outputs": [
    {
     "name": "stdout",
     "output_type": "stream",
     "text": [
      "File already exists.\n"
     ]
    }
   ],
   "source": [
    "# Export snake names to text file\n",
    "try:\n",
    "    with open(file_path, 'x') as file:\n",
    "        for name in snake_names:\n",
    "            file.write(name + '\\n')\n",
    "except FileExistsError:\n",
    "    print('File already exists.')\n",
    "except Exception as e:\n",
    "    print(f'An error occurred: {e}')\n"
   ]
  }
 ],
 "metadata": {
  "kernelspec": {
   "display_name": "base",
   "language": "python",
   "name": "python3"
  },
  "language_info": {
   "codemirror_mode": {
    "name": "ipython",
    "version": 3
   },
   "file_extension": ".py",
   "mimetype": "text/x-python",
   "name": "python",
   "nbconvert_exporter": "python",
   "pygments_lexer": "ipython3",
   "version": "3.11.6"
  }
 },
 "nbformat": 4,
 "nbformat_minor": 2
}
