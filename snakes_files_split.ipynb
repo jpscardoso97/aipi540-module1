{
 "cells": [
  {
   "cell_type": "code",
   "execution_count": 1,
   "id": "f290f8f8",
   "metadata": {},
   "outputs": [
    {
     "name": "stderr",
     "output_type": "stream",
     "text": [
      "Processing class folders: 100%|██████████| 38/38 [00:05<00:00,  7.53it/s]\n"
     ]
    }
   ],
   "source": [
    "import os\n",
    "import random\n",
    "import shutil\n",
    "from tqdm import tqdm\n",
    "\n",
    "def create_folder(folder_path):\n",
    "    # Create the folder if it doesn't exist\n",
    "    os.makedirs(folder_path, exist_ok=True)\n",
    "\n",
    "def split_dataset(source_folder, train_folder, test_folder, validation_folder):\n",
    "    # Iterate over each class (subfolder) in the source_folder\n",
    "    for class_folder in tqdm(os.listdir(source_folder), desc=\"Processing class folders\"):\n",
    "        class_path = os.path.join(source_folder, class_folder)\n",
    "\n",
    "        # Check if it is a directory\n",
    "        if os.path.isdir(class_path):\n",
    "            # List all images in the class folder\n",
    "            images = os.listdir(class_path)\n",
    "            # Shuffle the list of images\n",
    "            random.shuffle(images)\n",
    "\n",
    "            # Calculate the number of images for each set\n",
    "            total_images = len(images)\n",
    "            train_split = int(0.8 * total_images)\n",
    "            test_split = int(0.2 * total_images)\n",
    "\n",
    "            # Split the images into train, test, and validation sets\n",
    "            train_images = images[:train_split]\n",
    "            test_images = images[train_split:train_split + test_split]\n",
    "\n",
    "            # Create destination folders if they don't exist\n",
    "            train_class_folder = os.path.join(train_folder, class_folder)\n",
    "            test_class_folder = os.path.join(test_folder, class_folder)\n",
    "\n",
    "            create_folder(train_class_folder)\n",
    "            create_folder(test_class_folder)\n",
    "\n",
    "            # Copy the images to their respective folders\n",
    "            for image in train_images:\n",
    "                source_path = os.path.join(class_path, image)\n",
    "                destination_path = os.path.join(train_class_folder, image)\n",
    "                shutil.copyfile(source_path, destination_path)\n",
    "\n",
    "            for image in test_images:\n",
    "                source_path = os.path.join(class_path, image)\n",
    "                destination_path = os.path.join(test_class_folder, image)\n",
    "                shutil.copyfile(source_path, destination_path)\n",
    "\n",
    "# Replace these paths with your actual paths\n",
    "source_folder = \"snakes\"\n",
    "\n",
    "\n",
    "train_folder = \"train\"\n",
    "test_folder = \"test\"\n",
    "\n",
    "# Create master folders if they don't exist\n",
    "create_folder(train_folder)\n",
    "create_folder(test_folder)\n",
    "\n",
    "# Call the function to perform the split\n",
    "split_dataset(source_folder, train_folder, test_folder, validation_folder)"
   ]
  },
  {
   "cell_type": "code",
   "execution_count": 5,
   "id": "5bc84a68",
   "metadata": {},
   "outputs": [
    {
     "name": "stdout",
     "output_type": "stream",
     "text": [
      "Number of images in train set: 6195\n",
      "Number of images in test set: 1538\n"
     ]
    }
   ],
   "source": [
    "import os\n",
    "\n",
    "def count_images(folder):\n",
    "    total_images = 0\n",
    "    # Iterate over each class (subfolder) in the specified folder\n",
    "    for class_folder in os.listdir(folder):\n",
    "        class_path = os.path.join(folder, class_folder)\n",
    "\n",
    "        # Check if it is a directory\n",
    "        if os.path.isdir(class_path):\n",
    "            # Count the number of images in the class folder and its subfolders\n",
    "            images = [f for f in os.listdir(class_path) if os.path.isfile(os.path.join(class_path, f))]\n",
    "            total_images += len(images)\n",
    "\n",
    "    return total_images\n",
    "\n",
    "# Count the number of images in each set\n",
    "train_images_count = count_images(train_folder)\n",
    "test_images_count = count_images(test_folder)\n",
    "# Display the results\n",
    "print(f\"Number of images in train set: {train_images_count}\")\n",
    "print(f\"Number of images in test set: {test_images_count}\")\n"
   ]
  },
  {
   "cell_type": "code",
   "execution_count": null,
   "id": "3df64305",
   "metadata": {},
   "outputs": [],
   "source": []
  }
 ],
 "metadata": {
  "kernelspec": {
   "display_name": "Python 3 (ipykernel)",
   "language": "python",
   "name": "python3"
  },
  "language_info": {
   "codemirror_mode": {
    "name": "ipython",
    "version": 3
   },
   "file_extension": ".py",
   "mimetype": "text/x-python",
   "name": "python",
   "nbconvert_exporter": "python",
   "pygments_lexer": "ipython3",
   "version": "3.11.4"
  }
 },
 "nbformat": 4,
 "nbformat_minor": 5
}
